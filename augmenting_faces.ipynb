{
  "cells": [
    {
      "cell_type": "markdown",
      "metadata": {
        "id": "Jy2E9d8YzGip"
      },
      "source": [
        "Mounting a Google Drive where the pictures are uploaded from."
      ]
    },
    {
      "cell_type": "code",
      "execution_count": 2,
      "metadata": {
        "colab": {
          "base_uri": "https://localhost:8080/"
        },
        "id": "F5bCpgVqlx9H",
        "outputId": "305c963e-2056-420c-f6c7-8f4f50d51f76"
      },
      "outputs": [
        {
          "name": "stdout",
          "output_type": "stream",
          "text": [
            "Mounted at /content/drive\n"
          ]
        }
      ],
      "source": [
        "from google.colab import drive\n",
        "drive.mount('/content/drive')"
      ]
    },
    {
      "cell_type": "markdown",
      "metadata": {
        "id": "aVunQJrwEJiw"
      },
      "source": [
        "Augmenting the pictures for men"
      ]
    },
    {
      "cell_type": "code",
      "execution_count": 4,
      "metadata": {
        "colab": {
          "base_uri": "https://localhost:8080/"
        },
        "id": "z17Z7J6F7ey9",
        "outputId": "0b29425c-c9d3-4d1b-d8c4-954ec5bf939f"
      },
      "outputs": [
        {
          "name": "stderr",
          "output_type": "stream",
          "text": [
            "100%|██████████| 129/129 [15:09<00:00,  7.05s/it]"
          ]
        },
        {
          "name": "stdout",
          "output_type": "stream",
          "text": [
            "Error loading image: /content/drive/MyDrive/Faces/Dataset/men/neutral/.ipynb_checkpoints\n",
            "Augmentation complete. Augmented images are saved in the folder: /content/drive/MyDrive/Faces/augmented_images_men/\n"
          ]
        },
        {
          "name": "stderr",
          "output_type": "stream",
          "text": [
            "\n"
          ]
        }
      ],
      "source": [
        "# Import necessary libraries\n",
        "import os\n",
        "import cv2\n",
        "import numpy as np\n",
        "from tqdm import tqdm\n",
        "\n",
        "# Path to the folder containing original images\n",
        "#original_images_folder = '/content/drive/MyDrive/Faces/Dataset/men/neutral'\n",
        "\n",
        "# Path to the folder where augmented images will be saved\n",
        "augmented_images_folder = '/content/drive/MyDrive/Faces/augmented_images_men/'\n",
        "os.makedirs(augmented_images_folder, exist_ok=True)\n",
        "\n",
        "# Function to apply data augmentation techniques and save images\n",
        "def augment_images_and_save(image_path, save_path, num_repeats=10):\n",
        "    image = cv2.imread(image_path)\n",
        "    if image is None:\n",
        "        print(f\"Error loading image: {image_path}\")\n",
        "        return\n",
        "\n",
        "    filename_without_extension = os.path.splitext(os.path.basename(image_path))[0]\n",
        "\n",
        "    for i in range(num_repeats):\n",
        "        # Flip\n",
        "        flipped_horizontal = cv2.flip(image, 1)\n",
        "        cv2.imwrite(os.path.join(save_path, f'flipped_horizontal_{filename_without_extension}_{i}.jpg'), flipped_horizontal)\n",
        "\n",
        "        # Scaling (0.8)\n",
        "        scaled_down_8 = cv2.resize(image, (int(image.shape[1] * 0.8), int(image.shape[0] * 0.8)))\n",
        "        cv2.imwrite(os.path.join(save_path, f'scaled_down_8_{filename_without_extension}_{i}.jpg'), scaled_down_8)\n",
        "\n",
        "        # Scaling (0.3)\n",
        "        scaled_down_3 = cv2.resize(image, (int(image.shape[1] * 0.3), int(image.shape[0] * 0.3)))\n",
        "        cv2.imwrite(os.path.join(save_path, f'scaled_down_3_{filename_without_extension}_{i}.jpg'), scaled_down_3)\n",
        "\n",
        "        # Scaling (0.1)\n",
        "        scaled_down_1 = cv2.resize(image, (int(image.shape[1] * 0.1), int(image.shape[0] * 0.1)))\n",
        "        cv2.imwrite(os.path.join(save_path, f'scaled_down_1_{filename_without_extension}_{i}.jpg'), scaled_down_1)\n",
        "\n",
        "        # Translation\n",
        "        rows, cols, _ = image.shape\n",
        "        M = np.float32([[1, 0, 50], [0, 1, 30]])  # Shifts image by 50 pixels to the right and 30 pixels down\n",
        "        translated = cv2.warpAffine(image, M, (cols, rows))\n",
        "        cv2.imwrite(os.path.join(save_path, f'translated_{filename_without_extension}_{i}.jpg'), translated)\n",
        "\n",
        "        # Adding noise\n",
        "        noise = np.random.normal(loc=0, scale=25, size=image.shape).astype(np.uint8)\n",
        "        noisy_image = cv2.add(image, noise)\n",
        "        cv2.imwrite(os.path.join(save_path, f'noisy_{filename_without_extension}_{i}.jpg'), noisy_image)\n",
        "\n",
        "        # Color adjustments (brightness and contrast)\n",
        "        alpha = 1.5  # Contrast control (1.0-3.0)\n",
        "        beta = 30    # Brightness control (0-100)\n",
        "        adjusted = cv2.convertScaleAbs(image, alpha=alpha, beta=beta)\n",
        "        cv2.imwrite(os.path.join(save_path, f'adjusted_{filename_without_extension}_{i}.jpg'), adjusted)\n",
        "\n",
        "# List all files in the original folder\n",
        "original_images = os.listdir(original_images_folder)\n",
        "\n",
        "# Apply augmentation and save images\n",
        "for img_file in tqdm(original_images):\n",
        "    img_path = os.path.join(original_images_folder, img_file)\n",
        "    augment_images_and_save(img_path, augmented_images_folder, num_repeats=2)\n",
        "\n",
        "print(\"Augmentation complete. Augmented images are saved in the folder:\", augmented_images_folder)\n"
      ]
    },
    {
      "cell_type": "markdown",
      "metadata": {
        "id": "Q-w1T4ZCEmWY"
      },
      "source": [
        "augmenting the pictures for women"
      ]
    },
    {
      "cell_type": "code",
      "execution_count": 6,
      "metadata": {
        "colab": {
          "base_uri": "https://localhost:8080/"
        },
        "id": "4YRkohd8Eomb",
        "outputId": "1375339b-6eb8-4b8f-f8c8-d2b29251e965"
      },
      "outputs": [
        {
          "name": "stderr",
          "output_type": "stream",
          "text": [
            "100%|██████████| 91/91 [12:47<00:00,  8.44s/it]"
          ]
        },
        {
          "name": "stdout",
          "output_type": "stream",
          "text": [
            "Augmentation complete. Augmented images are saved in the folder: /content/drive/MyDrive/Faces/augmented_images_women/\n"
          ]
        },
        {
          "name": "stderr",
          "output_type": "stream",
          "text": [
            "\n"
          ]
        }
      ],
      "source": [
        "# Import necessary libraries\n",
        "import os\n",
        "import cv2\n",
        "import numpy as np\n",
        "from tqdm import tqdm\n",
        "\n",
        "# Path to the folder containing original images\n",
        "#original_images_folder = '/content/drive/MyDrive/Faces/Dataset/women/happy'\n",
        "\n",
        "# Path to the folder where augmented images will be saved\n",
        "augmented_images_folder = '/content/drive/MyDrive/Faces/augmented_images_women/'\n",
        "os.makedirs(augmented_images_folder, exist_ok=True)\n",
        "\n",
        "# Function to apply data augmentation techniques and save images\n",
        "def augment_images_and_save(image_path, save_path, num_repeats=2):\n",
        "    image = cv2.imread(image_path)\n",
        "    if image is None:\n",
        "        print(f\"Error loading image: {image_path}\")\n",
        "        return\n",
        "\n",
        "    filename_without_extension = os.path.splitext(os.path.basename(image_path))[0]\n",
        "\n",
        "    for i in range(num_repeats):\n",
        "        # Flip\n",
        "        flipped_horizontal = cv2.flip(image, 1)\n",
        "        cv2.imwrite(os.path.join(save_path, f'flipped_horizontal_{filename_without_extension}_{i}.jpg'), flipped_horizontal)\n",
        "\n",
        "        # Scaling (0.8)\n",
        "        scaled_down_8 = cv2.resize(image, (int(image.shape[1] * 0.8), int(image.shape[0] * 0.8)))\n",
        "        cv2.imwrite(os.path.join(save_path, f'scaled_down_8_{filename_without_extension}_{i}.jpg'), scaled_down_8)\n",
        "\n",
        "        # Scaling (0.3)\n",
        "        scaled_down_3 = cv2.resize(image, (int(image.shape[1] * 0.3), int(image.shape[0] * 0.3)))\n",
        "        cv2.imwrite(os.path.join(save_path, f'scaled_down_3_{filename_without_extension}_{i}.jpg'), scaled_down_3)\n",
        "\n",
        "        # Scaling (0.1)\n",
        "        scaled_down_1 = cv2.resize(image, (int(image.shape[1] * 0.1), int(image.shape[0] * 0.1)))\n",
        "        cv2.imwrite(os.path.join(save_path, f'scaled_down_1_{filename_without_extension}_{i}.jpg'), scaled_down_1)\n",
        "\n",
        "        # Translation\n",
        "        rows, cols, _ = image.shape\n",
        "        M = np.float32([[1, 0, 50], [0, 1, 30]])  # Shifts image by 50 pixels to the right and 30 pixels down\n",
        "        translated = cv2.warpAffine(image, M, (cols, rows))\n",
        "        cv2.imwrite(os.path.join(save_path, f'translated_{filename_without_extension}_{i}.jpg'), translated)\n",
        "\n",
        "        # Adding noise\n",
        "        noise = np.random.normal(loc=0, scale=25, size=image.shape).astype(np.uint8)\n",
        "        noisy_image = cv2.add(image, noise)\n",
        "        cv2.imwrite(os.path.join(save_path, f'noisy_{filename_without_extension}_{i}.jpg'), noisy_image)\n",
        "\n",
        "        # Color adjustments (brightness and contrast)\n",
        "        alpha = 1.5  # Contrast control (1.0-3.0)\n",
        "        beta = 30    # Brightness control (0-100)\n",
        "        adjusted = cv2.convertScaleAbs(image, alpha=alpha, beta=beta)\n",
        "        cv2.imwrite(os.path.join(save_path, f'adjusted_{filename_without_extension}_{i}.jpg'), adjusted)\n",
        "\n",
        "# List all files in the original folder\n",
        "original_images = os.listdir(original_images_folder)\n",
        "\n",
        "# Apply augmentation and save images\n",
        "for img_file in tqdm(original_images):\n",
        "    img_path = os.path.join(original_images_folder, img_file)\n",
        "    augment_images_and_save(img_path, augmented_images_folder, num_repeats=2)\n",
        "\n",
        "print(\"\\nAugmentation complete. \\nAugmented images are saved in the folder:\", augmented_images_folder)\n"
      ]
    },
    {
      "cell_type": "markdown",
      "metadata": {},
      "source": [
        "copying augmented pictures of men into training data set"
      ]
    },
    {
      "cell_type": "code",
      "execution_count": 9,
      "metadata": {
        "colab": {
          "base_uri": "https://localhost:8080/"
        },
        "id": "Mwiz4dCtlDDO",
        "outputId": "f9bf57d7-8cde-47f6-fb0f-f7406c413fcd"
      },
      "outputs": [
        {
          "name": "stdout",
          "output_type": "stream",
          "text": [
            "\n",
            " Pictures copied successfully from /content/drive/MyDrive/Faces/augmented_images_men to /content/drive/MyDrive/Faces/Dataset_Extended/men/neutral\n"
          ]
        }
      ],
      "source": [
        "# Import the shutil library\n",
        "import shutil\n",
        "import os\n",
        "\n",
        "# Source folder containing pictures to be copied\n",
        "#source_folder = '/content/drive/MyDrive/Faces/augmented_images_men'\n",
        "\n",
        "# Destination folder where pictures will be copied\n",
        "destination_folder = '/content/drive/MyDrive/Faces/Dataset_Extended/men/neutral'\n",
        "\n",
        "# List all files in the source folder\n",
        "picture_files = os.listdir(source_folder)\n",
        "\n",
        "# Copy pictures from source folder to destination folder\n",
        "for file_name in picture_files:\n",
        "    # Construct full file paths\n",
        "    source_file_path = os.path.join(source_folder, file_name)\n",
        "    destination_file_path = os.path.join(destination_folder, file_name)\n",
        "\n",
        "    # Copy the file from source to destination\n",
        "    shutil.copy(source_file_path, destination_file_path)\n",
        "\n",
        "print(\"\\n Pictures copied successfully from\", source_folder, \"to\", destination_folder)"
      ]
    },
    {
      "cell_type": "markdown",
      "metadata": {},
      "source": [
        "copying pictures of woman into training dataset"
      ]
    },
    {
      "cell_type": "code",
      "execution_count": 10,
      "metadata": {
        "colab": {
          "base_uri": "https://localhost:8080/"
        },
        "id": "sXFFx5kwlWuw",
        "outputId": "f20d3eae-b40b-401d-b6d6-b40c9b7b2daa"
      },
      "outputs": [
        {
          "name": "stdout",
          "output_type": "stream",
          "text": [
            "\n",
            " Pictures copied successfully from /content/drive/MyDrive/Faces/augmented_images_women to /content/drive/MyDrive/Faces/Dataset_Extended/women/happy\n"
          ]
        }
      ],
      "source": [
        "# Import the shutil library\n",
        "import shutil\n",
        "import os\n",
        "\n",
        "# Source folder containing pictures to be copied\n",
        "#source_folder = '/content/drive/MyDrive/Faces/augmented_images_women'\n",
        "\n",
        "# Destination folder where pictures will be copied\n",
        "destination_folder = '/content/drive/MyDrive/Faces/Dataset_Extended/women/happy'\n",
        "\n",
        "# List all files in the source folder\n",
        "picture_files = os.listdir(source_folder)\n",
        "\n",
        "# Copy pictures from source folder to destination folder\n",
        "for file_name in picture_files:\n",
        "    # Construct full file paths\n",
        "    source_file_path = os.path.join(source_folder, file_name)\n",
        "    destination_file_path = os.path.join(destination_folder, file_name)\n",
        "\n",
        "    # Copy the file from source to destination\n",
        "    shutil.copy(source_file_path, destination_file_path)\n",
        "\n",
        "print(\"\\n Pictures copied successfully from\", source_folder, \"to\", destination_folder)"
      ]
    }
  ],
  "metadata": {
    "accelerator": "GPU",
    "colab": {
      "gpuType": "T4",
      "provenance": []
    },
    "kernelspec": {
      "display_name": "Python 3",
      "name": "python3"
    },
    "language_info": {
      "name": "python",
      "version": "3.11.6"
    },
    "vscode": {
      "interpreter": {
        "hash": "5c7b89af1651d0b8571dde13640ecdccf7d5a6204171d6ab33e7c296e100e08a"
      }
    },
    "widgets": {
      "application/vnd.jupyter.widget-state+json": {
        "48ab57e12d5c42c69ce0deb8c010d563": {
          "model_module": "@jupyter-widgets/base",
          "model_module_version": "1.2.0",
          "model_name": "LayoutModel",
          "state": {
            "_model_module": "@jupyter-widgets/base",
            "_model_module_version": "1.2.0",
            "_model_name": "LayoutModel",
            "_view_count": null,
            "_view_module": "@jupyter-widgets/base",
            "_view_module_version": "1.2.0",
            "_view_name": "LayoutView",
            "align_content": null,
            "align_items": null,
            "align_self": null,
            "border": null,
            "bottom": null,
            "display": null,
            "flex": null,
            "flex_flow": null,
            "grid_area": null,
            "grid_auto_columns": null,
            "grid_auto_flow": null,
            "grid_auto_rows": null,
            "grid_column": null,
            "grid_gap": null,
            "grid_row": null,
            "grid_template_areas": null,
            "grid_template_columns": null,
            "grid_template_rows": null,
            "height": null,
            "justify_content": null,
            "justify_items": null,
            "left": null,
            "margin": null,
            "max_height": null,
            "max_width": null,
            "min_height": null,
            "min_width": null,
            "object_fit": null,
            "object_position": null,
            "order": null,
            "overflow": null,
            "overflow_x": null,
            "overflow_y": null,
            "padding": null,
            "right": null,
            "top": null,
            "visibility": null,
            "width": null
          }
        },
        "64917662b2ef4e668512bac1de3dc8e1": {
          "model_module": "@jupyter-widgets/base",
          "model_module_version": "1.2.0",
          "model_name": "LayoutModel",
          "state": {
            "_model_module": "@jupyter-widgets/base",
            "_model_module_version": "1.2.0",
            "_model_name": "LayoutModel",
            "_view_count": null,
            "_view_module": "@jupyter-widgets/base",
            "_view_module_version": "1.2.0",
            "_view_name": "LayoutView",
            "align_content": null,
            "align_items": null,
            "align_self": null,
            "border": null,
            "bottom": null,
            "display": null,
            "flex": null,
            "flex_flow": null,
            "grid_area": null,
            "grid_auto_columns": null,
            "grid_auto_flow": null,
            "grid_auto_rows": null,
            "grid_column": null,
            "grid_gap": null,
            "grid_row": null,
            "grid_template_areas": null,
            "grid_template_columns": null,
            "grid_template_rows": null,
            "height": null,
            "justify_content": null,
            "justify_items": null,
            "left": null,
            "margin": null,
            "max_height": null,
            "max_width": null,
            "min_height": null,
            "min_width": null,
            "object_fit": null,
            "object_position": null,
            "order": null,
            "overflow": null,
            "overflow_x": null,
            "overflow_y": null,
            "padding": null,
            "right": null,
            "top": null,
            "visibility": null,
            "width": null
          }
        },
        "66d4dc646e164207bee105fed6d3742a": {
          "model_module": "@jupyter-widgets/controls",
          "model_module_version": "1.5.0",
          "model_name": "VBoxModel",
          "state": {
            "_dom_classes": [],
            "_model_module": "@jupyter-widgets/controls",
            "_model_module_version": "1.5.0",
            "_model_name": "VBoxModel",
            "_view_count": null,
            "_view_module": "@jupyter-widgets/controls",
            "_view_module_version": "1.5.0",
            "_view_name": "VBoxView",
            "box_style": "",
            "children": [
              "IPY_MODEL_f8a4eb12a6ef4c87a74c8c6e7bc43d5e",
              "IPY_MODEL_eb913bf5e57844ae9427d139e4878506"
            ],
            "layout": "IPY_MODEL_64917662b2ef4e668512bac1de3dc8e1"
          }
        },
        "8692d60bb4b44c759badbb4b4b0edebb": {
          "model_module": "@jupyter-widgets/controls",
          "model_module_version": "1.5.0",
          "model_name": "ProgressStyleModel",
          "state": {
            "_model_module": "@jupyter-widgets/controls",
            "_model_module_version": "1.5.0",
            "_model_name": "ProgressStyleModel",
            "_view_count": null,
            "_view_module": "@jupyter-widgets/base",
            "_view_module_version": "1.2.0",
            "_view_name": "StyleView",
            "bar_color": null,
            "description_width": ""
          }
        },
        "872ee3a432f945318e72390f57291bf3": {
          "model_module": "@jupyter-widgets/base",
          "model_module_version": "1.2.0",
          "model_name": "LayoutModel",
          "state": {
            "_model_module": "@jupyter-widgets/base",
            "_model_module_version": "1.2.0",
            "_model_name": "LayoutModel",
            "_view_count": null,
            "_view_module": "@jupyter-widgets/base",
            "_view_module_version": "1.2.0",
            "_view_name": "LayoutView",
            "align_content": null,
            "align_items": null,
            "align_self": null,
            "border": null,
            "bottom": null,
            "display": null,
            "flex": null,
            "flex_flow": null,
            "grid_area": null,
            "grid_auto_columns": null,
            "grid_auto_flow": null,
            "grid_auto_rows": null,
            "grid_column": null,
            "grid_gap": null,
            "grid_row": null,
            "grid_template_areas": null,
            "grid_template_columns": null,
            "grid_template_rows": null,
            "height": null,
            "justify_content": null,
            "justify_items": null,
            "left": null,
            "margin": null,
            "max_height": null,
            "max_width": null,
            "min_height": null,
            "min_width": null,
            "object_fit": null,
            "object_position": null,
            "order": null,
            "overflow": null,
            "overflow_x": null,
            "overflow_y": null,
            "padding": null,
            "right": null,
            "top": null,
            "visibility": null,
            "width": null
          }
        },
        "c033f23764b3407e8b1bdd4c302bb8d5": {
          "model_module": "@jupyter-widgets/controls",
          "model_module_version": "1.5.0",
          "model_name": "DescriptionStyleModel",
          "state": {
            "_model_module": "@jupyter-widgets/controls",
            "_model_module_version": "1.5.0",
            "_model_name": "DescriptionStyleModel",
            "_view_count": null,
            "_view_module": "@jupyter-widgets/base",
            "_view_module_version": "1.2.0",
            "_view_name": "StyleView",
            "description_width": ""
          }
        },
        "eb913bf5e57844ae9427d139e4878506": {
          "model_module": "@jupyter-widgets/controls",
          "model_module_version": "1.5.0",
          "model_name": "FloatProgressModel",
          "state": {
            "_dom_classes": [],
            "_model_module": "@jupyter-widgets/controls",
            "_model_module_version": "1.5.0",
            "_model_name": "FloatProgressModel",
            "_view_count": null,
            "_view_module": "@jupyter-widgets/controls",
            "_view_module_version": "1.5.0",
            "_view_name": "ProgressView",
            "bar_style": "",
            "description": "",
            "description_tooltip": null,
            "layout": "IPY_MODEL_48ab57e12d5c42c69ce0deb8c010d563",
            "max": 1,
            "min": 0,
            "orientation": "horizontal",
            "style": "IPY_MODEL_8692d60bb4b44c759badbb4b4b0edebb",
            "value": 1
          }
        },
        "f8a4eb12a6ef4c87a74c8c6e7bc43d5e": {
          "model_module": "@jupyter-widgets/controls",
          "model_module_version": "1.5.0",
          "model_name": "LabelModel",
          "state": {
            "_dom_classes": [],
            "_model_module": "@jupyter-widgets/controls",
            "_model_module_version": "1.5.0",
            "_model_name": "LabelModel",
            "_view_count": null,
            "_view_module": "@jupyter-widgets/controls",
            "_view_module_version": "1.5.0",
            "_view_name": "LabelView",
            "description": "",
            "description_tooltip": null,
            "layout": "IPY_MODEL_872ee3a432f945318e72390f57291bf3",
            "placeholder": "​",
            "style": "IPY_MODEL_c033f23764b3407e8b1bdd4c302bb8d5",
            "value": "0.010 MB of 0.010 MB uploaded (0.000 MB deduped)\r"
          }
        }
      }
    }
  },
  "nbformat": 4,
  "nbformat_minor": 0
}
